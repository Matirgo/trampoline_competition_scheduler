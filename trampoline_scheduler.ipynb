{
 "cells": [
  {
   "cell_type": "markdown",
   "id": "38b3cf09",
   "metadata": {},
   "source": [
    "# Trampoline Competition Scheduler"
   ]
  },
  {
   "cell_type": "markdown",
   "id": "5c9858f4",
   "metadata": {},
   "source": [
    "## Information\n",
    "### Competitors\n",
    "- First name of competitor\n",
    "    - Stored as a string.\n",
    "- Surname of competitor\n",
    "    - Stored as a string.\n",
    "- Preferred category of competitor\n",
    "    - Stored as a boolean.\n",
    "        - True: Female\n",
    "        - False: Male\n",
    "- Trampoline (TRA) competitor\n",
    "    - Competing?\n",
    "        - True or False.\n",
    "    - Stored as an enumerator?\n",
    "        - 1: Novice\n",
    "        - 2: Intermediate\n",
    "        - 3: Intervanced\n",
    "        - 4: Advanced\n",
    "        - 5: Elite\n",
    "        - 6: Elite-Pro\n",
    "- Double-mini trampoline (DMT) competitor\n",
    "    - Competing?\n",
    "        - True or False.\n",
    "    - Stored as an int.\n",
    "        - 1: Level 1\n",
    "        - 2: Level 2\n",
    "        - 3: Level 3\n",
    "        - 4: Level 4\n",
    "        - 5: Level 5\n",
    "        - 6: Level 6\n",
    "- Tumbling (TUM) competitor\n",
    "    - Competing?\n",
    "        - True or False.\n",
    "    - Stored as an int.\n",
    "        - 1: Level 1\n",
    "        - 2: Level 2\n",
    "        - 3: Level 3\n",
    "        - 4: Level 4\n",
    "\n",
    "\n",
    "### Judges\n",
    "Level of trampoline (TRA) juding qualification\n",
    "Chairperson\n"
   ]
  },
  {
   "cell_type": "code",
   "execution_count": 20,
   "id": "f964ccbc",
   "metadata": {},
   "outputs": [],
   "source": [
    "# Import required packages.\n",
    "\n",
    "# Import pandas for data analysis.\n",
    "import pandas as pd"
   ]
  },
  {
   "cell_type": "code",
   "execution_count": 21,
   "id": "3e95a81f",
   "metadata": {},
   "outputs": [],
   "source": [
    "# Read the .csv file with all the entries.\n",
    "df = pd.read_csv(\"Sample_Competitor_Data.csv\", keep_default_na = True, delimiter = \",\", skipinitialspace = True, encoding = \"utf-8-sig\")"
   ]
  },
  {
   "cell_type": "code",
   "execution_count": 22,
   "id": "4a036c84",
   "metadata": {},
   "outputs": [
    {
     "data": {
      "text/plain": [
       "(14, 6)"
      ]
     },
     "execution_count": 22,
     "metadata": {},
     "output_type": "execute_result"
    }
   ],
   "source": [
    "# Find the shape of the data in the format (number of rows, number of columns).\n",
    "df.shape"
   ]
  },
  {
   "cell_type": "code",
   "execution_count": 23,
   "id": "b19cfb8e",
   "metadata": {},
   "outputs": [
    {
     "data": {
      "text/html": [
       "<div>\n",
       "<style scoped>\n",
       "    .dataframe tbody tr th:only-of-type {\n",
       "        vertical-align: middle;\n",
       "    }\n",
       "\n",
       "    .dataframe tbody tr th {\n",
       "        vertical-align: top;\n",
       "    }\n",
       "\n",
       "    .dataframe thead th {\n",
       "        text-align: right;\n",
       "    }\n",
       "</style>\n",
       "<table border=\"1\" class=\"dataframe\">\n",
       "  <thead>\n",
       "    <tr style=\"text-align: right;\">\n",
       "      <th></th>\n",
       "      <th>first_name</th>\n",
       "      <th>surname</th>\n",
       "      <th>preferred_category</th>\n",
       "      <th>tra_competitor</th>\n",
       "      <th>dmt_competitor</th>\n",
       "      <th>tum_competitor</th>\n",
       "    </tr>\n",
       "  </thead>\n",
       "  <tbody>\n",
       "    <tr>\n",
       "      <th>0</th>\n",
       "      <td>Bilbo</td>\n",
       "      <td>Staple</td>\n",
       "      <td>Male</td>\n",
       "      <td>Novice</td>\n",
       "      <td>1</td>\n",
       "      <td>1</td>\n",
       "    </tr>\n",
       "    <tr>\n",
       "      <th>1</th>\n",
       "      <td>Nilbo</td>\n",
       "      <td>Lexus</td>\n",
       "      <td>Male</td>\n",
       "      <td>Novice</td>\n",
       "      <td>4</td>\n",
       "      <td>2</td>\n",
       "    </tr>\n",
       "    <tr>\n",
       "      <th>2</th>\n",
       "      <td>Tristy</td>\n",
       "      <td>Thomdaughter</td>\n",
       "      <td>Female</td>\n",
       "      <td>Intermediate</td>\n",
       "      <td>0</td>\n",
       "      <td>3</td>\n",
       "    </tr>\n",
       "    <tr>\n",
       "      <th>3</th>\n",
       "      <td>Tristan</td>\n",
       "      <td>Turntable</td>\n",
       "      <td>Male</td>\n",
       "      <td>Not competing</td>\n",
       "      <td>2</td>\n",
       "      <td>4</td>\n",
       "    </tr>\n",
       "    <tr>\n",
       "      <th>4</th>\n",
       "      <td>Izzy</td>\n",
       "      <td>Dogg</td>\n",
       "      <td>Female</td>\n",
       "      <td>Intermediate</td>\n",
       "      <td>3</td>\n",
       "      <td>5</td>\n",
       "    </tr>\n",
       "  </tbody>\n",
       "</table>\n",
       "</div>"
      ],
      "text/plain": [
       "  first_name       surname preferred_category tra_competitor  dmt_competitor  \\\n",
       "0      Bilbo        Staple               Male         Novice               1   \n",
       "1      Nilbo         Lexus               Male         Novice               4   \n",
       "2     Tristy  Thomdaughter             Female   Intermediate               0   \n",
       "3    Tristan     Turntable               Male  Not competing               2   \n",
       "4       Izzy          Dogg             Female   Intermediate               3   \n",
       "\n",
       "   tum_competitor  \n",
       "0               1  \n",
       "1               2  \n",
       "2               3  \n",
       "3               4  \n",
       "4               5  "
      ]
     },
     "execution_count": 23,
     "metadata": {},
     "output_type": "execute_result"
    }
   ],
   "source": [
    "# Display the first five results, starting at index zero.\n",
    "df.head(5)"
   ]
  },
  {
   "cell_type": "code",
   "execution_count": 24,
   "id": "367960d3",
   "metadata": {},
   "outputs": [
    {
     "data": {
      "text/html": [
       "<div>\n",
       "<style scoped>\n",
       "    .dataframe tbody tr th:only-of-type {\n",
       "        vertical-align: middle;\n",
       "    }\n",
       "\n",
       "    .dataframe tbody tr th {\n",
       "        vertical-align: top;\n",
       "    }\n",
       "\n",
       "    .dataframe thead th {\n",
       "        text-align: right;\n",
       "    }\n",
       "</style>\n",
       "<table border=\"1\" class=\"dataframe\">\n",
       "  <thead>\n",
       "    <tr style=\"text-align: right;\">\n",
       "      <th></th>\n",
       "      <th>first_name</th>\n",
       "      <th>surname</th>\n",
       "      <th>preferred_category</th>\n",
       "      <th>tra_competitor</th>\n",
       "      <th>dmt_competitor</th>\n",
       "      <th>tum_competitor</th>\n",
       "    </tr>\n",
       "  </thead>\n",
       "  <tbody>\n",
       "    <tr>\n",
       "      <th>9</th>\n",
       "      <td>Matitan</td>\n",
       "      <td>Marthritis</td>\n",
       "      <td>Male</td>\n",
       "      <td>Elite-Pro</td>\n",
       "      <td>7</td>\n",
       "      <td>5</td>\n",
       "    </tr>\n",
       "    <tr>\n",
       "      <th>10</th>\n",
       "      <td>Miko</td>\n",
       "      <td>Piko</td>\n",
       "      <td>Male</td>\n",
       "      <td>Elite-Pro</td>\n",
       "      <td>4</td>\n",
       "      <td>4</td>\n",
       "    </tr>\n",
       "    <tr>\n",
       "      <th>11</th>\n",
       "      <td>Darnius</td>\n",
       "      <td>Wallet</td>\n",
       "      <td>Male</td>\n",
       "      <td>Elite-Pro</td>\n",
       "      <td>1</td>\n",
       "      <td>3</td>\n",
       "    </tr>\n",
       "    <tr>\n",
       "      <th>12</th>\n",
       "      <td>Ark</td>\n",
       "      <td>Balboa</td>\n",
       "      <td>Male</td>\n",
       "      <td>Elite</td>\n",
       "      <td>0</td>\n",
       "      <td>2</td>\n",
       "    </tr>\n",
       "    <tr>\n",
       "      <th>13</th>\n",
       "      <td>Lavender</td>\n",
       "      <td>Rose</td>\n",
       "      <td>Female</td>\n",
       "      <td>Advanced</td>\n",
       "      <td>0</td>\n",
       "      <td>1</td>\n",
       "    </tr>\n",
       "  </tbody>\n",
       "</table>\n",
       "</div>"
      ],
      "text/plain": [
       "   first_name     surname preferred_category tra_competitor  dmt_competitor  \\\n",
       "9     Matitan  Marthritis               Male      Elite-Pro               7   \n",
       "10       Miko        Piko               Male      Elite-Pro               4   \n",
       "11    Darnius      Wallet               Male      Elite-Pro               1   \n",
       "12        Ark      Balboa               Male          Elite               0   \n",
       "13   Lavender        Rose             Female       Advanced               0   \n",
       "\n",
       "    tum_competitor  \n",
       "9                5  \n",
       "10               4  \n",
       "11               3  \n",
       "12               2  \n",
       "13               1  "
      ]
     },
     "execution_count": 24,
     "metadata": {},
     "output_type": "execute_result"
    }
   ],
   "source": [
    "# Display the last five results.\n",
    "df.tail(5)"
   ]
  },
  {
   "cell_type": "code",
   "execution_count": 25,
   "id": "cfa6a3df",
   "metadata": {},
   "outputs": [],
   "source": [
    "# Create a new column called \"is_female\" based on the \"preferred_category\" column.\n",
    "df[\"is_female\"] = df[\"preferred_category\"].apply(lambda x: True if x == \"Female\" else False)\n",
    "\n",
    "# Drop the preferred category column.\n",
    "df = df.drop(columns = [\"preferred_category\"])"
   ]
  },
  {
   "cell_type": "code",
   "execution_count": 26,
   "id": "30b08ea0",
   "metadata": {},
   "outputs": [
    {
     "data": {
      "text/plain": [
       "first_name        object\n",
       "surname           object\n",
       "tra_competitor    object\n",
       "dmt_competitor     int64\n",
       "tum_competitor     int64\n",
       "is_female           bool\n",
       "dtype: object"
      ]
     },
     "execution_count": 26,
     "metadata": {},
     "output_type": "execute_result"
    }
   ],
   "source": [
    "# Check the types of the .csv file.\n",
    "df.dtypes"
   ]
  },
  {
   "cell_type": "code",
   "execution_count": 27,
   "id": "4592bc20",
   "metadata": {},
   "outputs": [],
   "source": [
    "# Change all data fields to either categorical (category) or continuous (float64) types.\n",
    "df[\"first_name\"] = df[\"first_name\"].astype(\"category\")\n",
    "df[\"surname\"] = df[\"surname\"].astype(\"category\")\n",
    "df[\"tra_competitor\"] = df[\"tra_competitor\"].astype(\"category\")\n",
    "df[\"dmt_competitor\"] = df[\"dmt_competitor\"].astype(\"float64\")\n",
    "df[\"tum_competitor\"] = df[\"tum_competitor\"].astype(\"float64\")\n",
    "\n",
    "# \"is_female\" is already of type Boolean, therefore does not need to be changed."
   ]
  },
  {
   "cell_type": "code",
   "execution_count": 28,
   "id": "71ef637e",
   "metadata": {},
   "outputs": [],
   "source": [
    "# Save the updated DataFrame back to CSV\n",
    "df.to_csv(\"Updated_Sample_Data.csv\", index = False)"
   ]
  },
  {
   "cell_type": "code",
   "execution_count": null,
   "id": "726697da",
   "metadata": {},
   "outputs": [],
   "source": [
    "%run test.py"
   ]
  },
  {
   "cell_type": "code",
   "execution_count": 29,
   "id": "a792cd85",
   "metadata": {},
   "outputs": [],
   "source": [
    "# class Level(Enum):\n",
    "#     NOVICE = 0\n",
    "#     INTERMEDIATE = 1\n",
    "\n",
    "# @dataclass\n",
    "# class Competitor:\n",
    "#   first_name: str\n",
    "#   surname: str\n",
    "#   level: Level"
   ]
  }
 ],
 "metadata": {
  "kernelspec": {
   "display_name": "comp47350py311",
   "language": "python",
   "name": "python3"
  },
  "language_info": {
   "codemirror_mode": {
    "name": "ipython",
    "version": 3
   },
   "file_extension": ".py",
   "mimetype": "text/x-python",
   "name": "python",
   "nbconvert_exporter": "python",
   "pygments_lexer": "ipython3",
   "version": "3.11.5"
  }
 },
 "nbformat": 4,
 "nbformat_minor": 5
}
