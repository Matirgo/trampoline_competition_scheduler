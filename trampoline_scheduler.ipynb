{
 "cells": [
  {
   "cell_type": "markdown",
   "id": "38b3cf09",
   "metadata": {},
   "source": [
    "# Trampoline Scheduler"
   ]
  },
  {
   "cell_type": "markdown",
   "id": "5c9858f4",
   "metadata": {},
   "source": [
    "sdfgesfgsergergersgergergergedsgsadfgsfg32r4234234r"
   ]
  },
  {
   "cell_type": "code",
   "execution_count": 1,
   "id": "a792cd85",
   "metadata": {},
   "outputs": [
    {
     "name": "stdout",
     "output_type": "stream",
     "text": [
      "Hello, World!\n"
     ]
    }
   ],
   "source": [
    "print(\"Hello, World!\")"
   ]
  },
  {
   "cell_type": "code",
   "execution_count": null,
   "id": "58e5de73",
   "metadata": {},
   "outputs": [],
   "source": [
    "print(\"Sup!\")"
   ]
  }
 ],
 "metadata": {
  "kernelspec": {
   "display_name": "comp47350py311",
   "language": "python",
   "name": "python3"
  },
  "language_info": {
   "codemirror_mode": {
    "name": "ipython",
    "version": 3
   },
   "file_extension": ".py",
   "mimetype": "text/x-python",
   "name": "python",
   "nbconvert_exporter": "python",
   "pygments_lexer": "ipython3",
   "version": "3.11.5"
  }
 },
 "nbformat": 4,
 "nbformat_minor": 5
}
