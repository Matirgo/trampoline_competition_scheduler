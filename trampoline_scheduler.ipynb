{
 "cells": [
  {
   "cell_type": "markdown",
   "id": "38b3cf09",
   "metadata": {},
   "source": [
    "# Trampoline Competition Scheduler"
   ]
  },
  {
   "cell_type": "markdown",
   "id": "f54dc729",
   "metadata": {},
   "source": [
    "## Breakdown of Data Importing and Processing\n",
    "### 1. Data Importing\n",
    "\n",
    "Via Pandas, we can import data from any Excel-based file, including TrampOnline's .xls files, convert it into a .csv file, and view it. This section deals with the import process."
   ]
  },
  {
   "cell_type": "code",
   "execution_count": 1,
   "id": "f964ccbc",
   "metadata": {},
   "outputs": [],
   "source": [
    "# Import required packages.\n",
    "\n",
    "# Import pandas for data analysis.\n",
    "import pandas as pd"
   ]
  },
  {
   "cell_type": "code",
   "execution_count": 2,
   "id": "091a5c84",
   "metadata": {},
   "outputs": [],
   "source": [
    "# Read the TrampOnline .xls Excel file.\n",
    "df = pd.read_excel(\"data/TrampOnline_Sample_Competitors.xls\", sheet_name = \"Sheet1\", header = 0)\n",
    "\n",
    "# Convert the .xls file into a .csv file.\n",
    "df.to_csv(\"data/TrampOnline_Sample_Competitors.csv\", index = False)"
   ]
  },
  {
   "cell_type": "code",
   "execution_count": 3,
   "id": "3e95a81f",
   "metadata": {},
   "outputs": [],
   "source": [
    "# Read the .csv file with all the entries.\n",
    "df = pd.read_csv(\"data/TrampOnline_Sample_Competitors.csv\", keep_default_na = True, delimiter = \",\", skipinitialspace = True, encoding = \"utf-8-sig\")"
   ]
  },
  {
   "cell_type": "markdown",
   "id": "28fde12e",
   "metadata": {},
   "source": [
    "### 2. Data Cleaning\n",
    "\n",
    "The data should be checked and ensured to not have been corrupted or similar. This section performs some sanity checks on the data and then standardises the types."
   ]
  },
  {
   "cell_type": "code",
   "execution_count": 4,
   "id": "4a036c84",
   "metadata": {},
   "outputs": [
    {
     "data": {
      "text/plain": [
       "(12, 11)"
      ]
     },
     "execution_count": 4,
     "metadata": {},
     "output_type": "execute_result"
    }
   ],
   "source": [
    "# Find the shape of the data in the format (number of rows, number of columns).\n",
    "df.shape"
   ]
  },
  {
   "cell_type": "code",
   "execution_count": 5,
   "id": "b19cfb8e",
   "metadata": {},
   "outputs": [
    {
     "data": {
      "text/html": [
       "<div>\n",
       "<style scoped>\n",
       "    .dataframe tbody tr th:only-of-type {\n",
       "        vertical-align: middle;\n",
       "    }\n",
       "\n",
       "    .dataframe tbody tr th {\n",
       "        vertical-align: top;\n",
       "    }\n",
       "\n",
       "    .dataframe thead th {\n",
       "        text-align: right;\n",
       "    }\n",
       "</style>\n",
       "<table border=\"1\" class=\"dataframe\">\n",
       "  <thead>\n",
       "    <tr style=\"text-align: right;\">\n",
       "      <th></th>\n",
       "      <th>ID</th>\n",
       "      <th>Name</th>\n",
       "      <th>Club</th>\n",
       "      <th>ClassName</th>\n",
       "      <th>StartOrder</th>\n",
       "      <th>Discipline</th>\n",
       "      <th>Team</th>\n",
       "      <th>Team_Category</th>\n",
       "      <th>Guest</th>\n",
       "      <th>flight</th>\n",
       "      <th>photo_consent</th>\n",
       "    </tr>\n",
       "  </thead>\n",
       "  <tbody>\n",
       "    <tr>\n",
       "      <th>0</th>\n",
       "      <td>10134</td>\n",
       "      <td>Derbiled Áed</td>\n",
       "      <td>DCU</td>\n",
       "      <td>Novice Women</td>\n",
       "      <td>20</td>\n",
       "      <td>TRI</td>\n",
       "      <td>NaN</td>\n",
       "      <td>NaN</td>\n",
       "      <td>0</td>\n",
       "      <td>1.0</td>\n",
       "      <td>1</td>\n",
       "    </tr>\n",
       "    <tr>\n",
       "      <th>1</th>\n",
       "      <td>10304</td>\n",
       "      <td>Anwar Fateh</td>\n",
       "      <td>MU</td>\n",
       "      <td>Novice Men</td>\n",
       "      <td>12</td>\n",
       "      <td>TRI</td>\n",
       "      <td>NaN</td>\n",
       "      <td>NaN</td>\n",
       "      <td>0</td>\n",
       "      <td>1.0</td>\n",
       "      <td>1</td>\n",
       "    </tr>\n",
       "    <tr>\n",
       "      <th>2</th>\n",
       "      <td>10403</td>\n",
       "      <td>Karpos Pankratios</td>\n",
       "      <td>QUB</td>\n",
       "      <td>Intermediate Men</td>\n",
       "      <td>1</td>\n",
       "      <td>TRI</td>\n",
       "      <td>NaN</td>\n",
       "      <td>NaN</td>\n",
       "      <td>0</td>\n",
       "      <td>1.0</td>\n",
       "      <td>1</td>\n",
       "    </tr>\n",
       "    <tr>\n",
       "      <th>3</th>\n",
       "      <td>10999</td>\n",
       "      <td>Sören Shiva</td>\n",
       "      <td>TCD</td>\n",
       "      <td>Intervanced Men</td>\n",
       "      <td>45</td>\n",
       "      <td>TRI</td>\n",
       "      <td>A</td>\n",
       "      <td>NaN</td>\n",
       "      <td>0</td>\n",
       "      <td>NaN</td>\n",
       "      <td>1</td>\n",
       "    </tr>\n",
       "    <tr>\n",
       "      <th>4</th>\n",
       "      <td>11568</td>\n",
       "      <td>Yolotzin Thibaut</td>\n",
       "      <td>UCC</td>\n",
       "      <td>Intermediate Women</td>\n",
       "      <td>65</td>\n",
       "      <td>TRI</td>\n",
       "      <td>NaN</td>\n",
       "      <td>NaN</td>\n",
       "      <td>0</td>\n",
       "      <td>NaN</td>\n",
       "      <td>1</td>\n",
       "    </tr>\n",
       "  </tbody>\n",
       "</table>\n",
       "</div>"
      ],
      "text/plain": [
       "      ID               Name Club           ClassName  StartOrder Discipline  \\\n",
       "0  10134       Derbiled Áed  DCU        Novice Women          20        TRI   \n",
       "1  10304        Anwar Fateh   MU          Novice Men          12        TRI   \n",
       "2  10403  Karpos Pankratios  QUB    Intermediate Men           1        TRI   \n",
       "3  10999        Sören Shiva  TCD     Intervanced Men          45        TRI   \n",
       "4  11568   Yolotzin Thibaut  UCC  Intermediate Women          65        TRI   \n",
       "\n",
       "  Team  Team_Category  Guest  flight  photo_consent  \n",
       "0  NaN            NaN      0     1.0              1  \n",
       "1  NaN            NaN      0     1.0              1  \n",
       "2  NaN            NaN      0     1.0              1  \n",
       "3    A            NaN      0     NaN              1  \n",
       "4  NaN            NaN      0     NaN              1  "
      ]
     },
     "execution_count": 5,
     "metadata": {},
     "output_type": "execute_result"
    }
   ],
   "source": [
    "# Display the first five results, starting at index zero.\n",
    "df.head(5)"
   ]
  },
  {
   "cell_type": "code",
   "execution_count": 6,
   "id": "367960d3",
   "metadata": {},
   "outputs": [
    {
     "data": {
      "text/html": [
       "<div>\n",
       "<style scoped>\n",
       "    .dataframe tbody tr th:only-of-type {\n",
       "        vertical-align: middle;\n",
       "    }\n",
       "\n",
       "    .dataframe tbody tr th {\n",
       "        vertical-align: top;\n",
       "    }\n",
       "\n",
       "    .dataframe thead th {\n",
       "        text-align: right;\n",
       "    }\n",
       "</style>\n",
       "<table border=\"1\" class=\"dataframe\">\n",
       "  <thead>\n",
       "    <tr style=\"text-align: right;\">\n",
       "      <th></th>\n",
       "      <th>ID</th>\n",
       "      <th>Name</th>\n",
       "      <th>Club</th>\n",
       "      <th>ClassName</th>\n",
       "      <th>StartOrder</th>\n",
       "      <th>Discipline</th>\n",
       "      <th>Team</th>\n",
       "      <th>Team_Category</th>\n",
       "      <th>Guest</th>\n",
       "      <th>flight</th>\n",
       "      <th>photo_consent</th>\n",
       "    </tr>\n",
       "  </thead>\n",
       "  <tbody>\n",
       "    <tr>\n",
       "      <th>7</th>\n",
       "      <td>12483</td>\n",
       "      <td>Désirée Godofredo</td>\n",
       "      <td>TCD</td>\n",
       "      <td>Advanced Women</td>\n",
       "      <td>10</td>\n",
       "      <td>TRI</td>\n",
       "      <td>A</td>\n",
       "      <td>NaN</td>\n",
       "      <td>0</td>\n",
       "      <td>1.0</td>\n",
       "      <td>1</td>\n",
       "    </tr>\n",
       "    <tr>\n",
       "      <th>8</th>\n",
       "      <td>12702</td>\n",
       "      <td>Bjoern Pierrick</td>\n",
       "      <td>UCC</td>\n",
       "      <td>Elite Men</td>\n",
       "      <td>23</td>\n",
       "      <td>TRI</td>\n",
       "      <td>NaN</td>\n",
       "      <td>NaN</td>\n",
       "      <td>0</td>\n",
       "      <td>NaN</td>\n",
       "      <td>1</td>\n",
       "    </tr>\n",
       "    <tr>\n",
       "      <th>9</th>\n",
       "      <td>12881</td>\n",
       "      <td>Shoshanna Assol</td>\n",
       "      <td>UL</td>\n",
       "      <td>Elite Women</td>\n",
       "      <td>32</td>\n",
       "      <td>TRI</td>\n",
       "      <td>NaN</td>\n",
       "      <td>NaN</td>\n",
       "      <td>0</td>\n",
       "      <td>1.0</td>\n",
       "      <td>1</td>\n",
       "    </tr>\n",
       "    <tr>\n",
       "      <th>10</th>\n",
       "      <td>12969</td>\n",
       "      <td>Akma 2</td>\n",
       "      <td>TCD</td>\n",
       "      <td>Elite-Pro Men</td>\n",
       "      <td>69</td>\n",
       "      <td>TRI</td>\n",
       "      <td>A</td>\n",
       "      <td>NaN</td>\n",
       "      <td>1</td>\n",
       "      <td>1.0</td>\n",
       "      <td>1</td>\n",
       "    </tr>\n",
       "    <tr>\n",
       "      <th>11</th>\n",
       "      <td>12977</td>\n",
       "      <td>Echo Longray</td>\n",
       "      <td>TCD</td>\n",
       "      <td>Elite-Pro Women</td>\n",
       "      <td>99</td>\n",
       "      <td>TRI</td>\n",
       "      <td>A</td>\n",
       "      <td>NaN</td>\n",
       "      <td>0</td>\n",
       "      <td>1.0</td>\n",
       "      <td>1</td>\n",
       "    </tr>\n",
       "  </tbody>\n",
       "</table>\n",
       "</div>"
      ],
      "text/plain": [
       "       ID               Name Club        ClassName  StartOrder Discipline  \\\n",
       "7   12483  Désirée Godofredo  TCD   Advanced Women          10        TRI   \n",
       "8   12702    Bjoern Pierrick  UCC        Elite Men          23        TRI   \n",
       "9   12881    Shoshanna Assol   UL      Elite Women          32        TRI   \n",
       "10  12969             Akma 2  TCD    Elite-Pro Men          69        TRI   \n",
       "11  12977       Echo Longray  TCD  Elite-Pro Women          99        TRI   \n",
       "\n",
       "   Team  Team_Category  Guest  flight  photo_consent  \n",
       "7     A            NaN      0     1.0              1  \n",
       "8   NaN            NaN      0     NaN              1  \n",
       "9   NaN            NaN      0     1.0              1  \n",
       "10    A            NaN      1     1.0              1  \n",
       "11    A            NaN      0     1.0              1  "
      ]
     },
     "execution_count": 6,
     "metadata": {},
     "output_type": "execute_result"
    }
   ],
   "source": [
    "# Display the last five results.\n",
    "df.tail(5)"
   ]
  },
  {
   "cell_type": "code",
   "execution_count": 7,
   "id": "30b08ea0",
   "metadata": {},
   "outputs": [
    {
     "data": {
      "text/plain": [
       "ID                 int64\n",
       "Name              object\n",
       "Club              object\n",
       "ClassName         object\n",
       "StartOrder         int64\n",
       "Discipline        object\n",
       "Team              object\n",
       "Team_Category    float64\n",
       "Guest              int64\n",
       "flight           float64\n",
       "photo_consent      int64\n",
       "dtype: object"
      ]
     },
     "execution_count": 7,
     "metadata": {},
     "output_type": "execute_result"
    }
   ],
   "source": [
    "# Check the types of the .csv file.\n",
    "df.dtypes"
   ]
  },
  {
   "cell_type": "markdown",
   "id": "52789d17",
   "metadata": {},
   "source": [
    "Based on the above data types, the following modifications should be made.\n",
    "\n",
    "- **ID:** Perfectly fine as an integer.\n",
    "\n",
    "- **Name:** Should be converted into a string.\n",
    "\n",
    "- **Club:** Should be converted into a category.\n",
    "\n",
    "- **ClassName:** Should be converted into a category.\n",
    "\n",
    "- **StartOrder:** Perfectly fine as an integer.\n",
    "\n",
    "- **Discipline:** Should be converted into a category.\n",
    "\n",
    "- **Team:** Should be converted into a string.\n",
    "\n",
    "- **Team_Category:** Should be converted into a category.\n",
    "\n",
    "- **Guest:** Should be converted into a Boolean.\n",
    "\n",
    "- **flight:** Perfectly fine as a float.\n",
    "\n",
    "- **photo_consent:** Should be converted into a Boolean."
   ]
  },
  {
   "cell_type": "code",
   "execution_count": null,
   "id": "4592bc20",
   "metadata": {},
   "outputs": [],
   "source": [
    "# Change all data fields to the appropriate type.\n",
    "df[\"Name\"] = df[\"Name\"].astype(\"string\")\n",
    "df[\"Club\"] = df[\"Club\"].astype(\"category\")\n",
    "df[\"ClassName\"] = df[\"ClassName\"].astype(\"category\")\n",
    "df[\"Discipline\"] = df[\"Discipline\"].astype(\"category\")\n",
    "df[\"Team\"] = df[\"Team\"].astype(\"string\")\n",
    "df[\"Team_Category\"] = df[\"Team_Category\"].astype(\"category\")\n",
    "df[\"Guest\"] = df[\"Guest\"].astype(\"boolean\")\n",
    "df[\"photo_consent\"] = df[\"photo_consent\"].astype(\"boolean\")"
   ]
  },
  {
   "cell_type": "markdown",
   "id": "a94fa9af",
   "metadata": {},
   "source": [
    "#### Sanity Checks\n",
    "\n",
    "This section checks for duplicate rows and the number of unique columns."
   ]
  },
  {
   "cell_type": "code",
   "execution_count": 11,
   "id": "f3c53887",
   "metadata": {},
   "outputs": [
    {
     "name": "stdout",
     "output_type": "stream",
     "text": [
      "Empty DataFrame\n",
      "Columns: [ID, Name, Club, ClassName, StartOrder, Discipline, Team, Team_Category, Guest, flight, photo_consent]\n",
      "Index: []\n"
     ]
    }
   ],
   "source": [
    "# Check for duplicate columns.\n",
    "# If the result is \"Empty DataFrame\", then there are no duplicates.\n",
    "print(df[df.duplicated()])"
   ]
  },
  {
   "cell_type": "code",
   "execution_count": 12,
   "id": "e8c09298",
   "metadata": {},
   "outputs": [
    {
     "data": {
      "text/plain": [
       "ID               12\n",
       "Name             12\n",
       "Club              7\n",
       "ClassName        12\n",
       "StartOrder       12\n",
       "Discipline        1\n",
       "Team              1\n",
       "Team_Category     0\n",
       "Guest             2\n",
       "flight            1\n",
       "photo_consent     1\n",
       "dtype: int64"
      ]
     },
     "execution_count": 12,
     "metadata": {},
     "output_type": "execute_result"
    }
   ],
   "source": [
    "# Check for the number of unique values in each column. In big competitions, the number of trampoline, DMT, and tumbling competitor categories\n",
    "# should equal the number of levels plus one to account for anyone not competing.\n",
    "df.nunique()"
   ]
  },
  {
   "cell_type": "code",
   "execution_count": 13,
   "id": "71ef637e",
   "metadata": {},
   "outputs": [],
   "source": [
    "# Save the updated data frame back to CSV.\n",
    "df.to_csv(\"Updated_Sample_TrampOnline_Data.csv\", index = False)"
   ]
  },
  {
   "cell_type": "markdown",
   "id": "a2e623f6",
   "metadata": {},
   "source": [
    "## Competitor Scheduling\n",
    "\n",
    "The following section will get into organising the competitors into their groups.\n",
    "\n",
    "There are six trampoline categories to consider: Novice, Intermediate, Intervanced, Advanced, Elite, and Elite-Pro. Competitors should be separated based on these levels, and then again by their category.\n",
    "\n",
    "Once this is done, a check should be done to investigate the number of competitors in categories and decide on how many flights are appropriate. A general rule of thumb is 12 competitors per flight, however this isn't a hard rule. There may be more or less."
   ]
  },
  {
   "cell_type": "markdown",
   "id": "b5b5776d",
   "metadata": {},
   "source": [
    "### Trampoline Level Ordering\n",
    "\n",
    "The first step is to organise competitors by level. The levels should be put into a specific order, and then competitors should be split by category."
   ]
  },
  {
   "cell_type": "code",
   "execution_count": null,
   "id": "da1d624e",
   "metadata": {},
   "outputs": [],
   "source": [
    "# Define the order of trampoline levels.\n",
    "trampoline_level_order = [\"Novice\", \"Intermediate\", \"Intervanced\", \"Advanced\", \"Elite\", \"Elite-Pro\", \"Not competing\"]\n",
    "\n",
    "# Set \"tra_competitor\" as an ordered categorical variable.\n",
    "df[\"tra_competitor\"] = pd.Categorical(df[\"tra_competitor\"], categories = trampoline_level_order, ordered = True)\n",
    "\n",
    "# Sort by \"tra_competitor\" and \"is_female\".\n",
    "df = df.sort_values([\"tra_competitor\", \"is_female\"])"
   ]
  },
  {
   "cell_type": "code",
   "execution_count": null,
   "id": "e9b9127d",
   "metadata": {},
   "outputs": [],
   "source": [
    "# Group by both level and category.\n",
    "groups = [\n",
    "    group.reset_index(drop = True)[[\"first_name\", \"surname\", \"tra_competitor\", \"is_female\"]] # reset_index() will create subframes from the data frame.\n",
    "    for _, group in df.groupby([\"tra_competitor\", \"is_female\"]) # The underscore tells Pandas to ignore the key, just group the data frame.\n",
    "]\n",
    "\n",
    "# Pad all groups to the same row count.\n",
    "max_len = max(len(g) for g in groups) # Find the maximum amount of columns in any given group.\n",
    "groups = [g.reindex(range(max_len)) for g in groups] # Check each group and make all of them have the same number of columns.\n",
    "\n",
    "# Add a blank spacer column between each group.\n",
    "with_spacers = [] # The groups will be stored here, and an empty column will be added at the end later.\n",
    "for group in groups:\n",
    "    with_spacers.append(group) # Add the group to the list.\n",
    "    with_spacers.append(pd.DataFrame(columns = [\"\"])) # Add a blank space to the end of the group.\n",
    "\n",
    "# Remove the last spacer.\n",
    "with_spacers = with_spacers[:-1] # Start from the beginning and go to the last element, which excludes the last element.\n",
    "\n",
    "# Concatenate all the data frames into one side-by-side.\n",
    "competitor_df = pd.concat(with_spacers, axis = 1) # \"with_spacers\" is the list containing all the data frames, and axis = 1 specifies horizontal concatenation.\n",
    "\n",
    "# Export to a .csv file.\n",
    "competitor_df.to_csv(\"Grouped_by_Level_and_Category.csv\", index = False)"
   ]
  },
  {
   "cell_type": "markdown",
   "id": "1fbc18ea",
   "metadata": {},
   "source": [
    "#### Exporting to a Stylised Excel (.xlsx) File\n",
    "\n",
    "The following code will take the created data frame and turn it into an Excel spreadsheet suitable for human use. It will also stylise the headers to make them more presentable."
   ]
  },
  {
   "cell_type": "code",
   "execution_count": null,
   "id": "7b85256c",
   "metadata": {},
   "outputs": [],
   "source": [
    "# Calculate number of groups (unique combinations of level and category).\n",
    "num_groups = len(groups)\n",
    "\n",
    "# Build header labels to match competitor data frame.\n",
    "header_labels = []\n",
    "for (level, is_female), _ in df.groupby([\"tra_competitor\", \"is_female\"]): # Group by level and category.\n",
    "    label = f\"{level} {'Ladies +' if is_female else 'Men +'}\" # Title the header with the level, followed by category.\n",
    "    header_labels.extend([label, \"\", \"\", \"\", \"\"])  # The header should take up all the coolumns for each group.\n",
    "\n",
    "# Remove the final spacer.\n",
    "header_labels = header_labels[:competitor_df.shape[1]]\n",
    "\n",
    "# Insert header row at the top.\n",
    "competitor_df.loc[-1] = header_labels # Inserts a row at index -1, so that it is above all of the competitor data.\n",
    "competitor_df = competitor_df.sort_index() # Sorts the rows, ensuring that the new header row is at the top.\n",
    "competitor_df = competitor_df.reset_index(drop = True)  # Resets the index numbers, so index -1 becomes 0 and so on.\n",
    "\n",
    "# Insert unique column headers for each column so Pandas is happy to export to Excel.\n",
    "competitor_df.columns = [f\"col{i}\" for i in range(competitor_df.shape[1])]\n",
    "\n",
    "# Function to highlight the background of the header row in a light blue tone and make the text bold.\n",
    "def highlight_headers(val):\n",
    "    \"\"\"Function that highlights the heading of a group with a light blue background and makes the text bold.\n",
    "    Assumes that the content is a string, and has \"Ladies +\", or \"Men +\" in it.\"\"\"\n",
    "    if isinstance(val, str) and (\"Ladies +\" in val or \"Men +\" in val):\n",
    "        return \"background-color: lightblue; font-weight: bold\"\n",
    "    return \"\"\n",
    "\n",
    "# Apply the function to every cell of a data frame, specifically targeting the header row.\n",
    "styled = competitor_df.style.applymap(highlight_headers, subset = pd.IndexSlice[0, :]) # The [0, :] targets the header row at index 0.\n",
    "\n",
    "# Export the data frame to an Excel (.xlsx) file.\n",
    "styled.to_excel(\"Grouped_by_Level_and_Category.xlsx\", index = False, header = False)"
   ]
  }
 ],
 "metadata": {
  "kernelspec": {
   "display_name": "comp47350py311",
   "language": "python",
   "name": "python3"
  },
  "language_info": {
   "codemirror_mode": {
    "name": "ipython",
    "version": 3
   },
   "file_extension": ".py",
   "mimetype": "text/x-python",
   "name": "python",
   "nbconvert_exporter": "python",
   "pygments_lexer": "ipython3",
   "version": "3.11.5"
  }
 },
 "nbformat": 4,
 "nbformat_minor": 5
}
