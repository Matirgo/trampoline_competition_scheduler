{
 "cells": [
  {
   "cell_type": "markdown",
   "id": "38b3cf09",
   "metadata": {},
   "source": [
    "# Trampoline Competition Scheduler"
   ]
  },
  {
   "cell_type": "markdown",
   "id": "5c9858f4",
   "metadata": {},
   "source": [
    "## Information\n",
    "### Competitors\n",
    "- First name of competitor\n",
    "    - Stored as a string.\n",
    "- Surname of competitor\n",
    "    - Stored as a string.\n",
    "- Preferred category of competitor\n",
    "    - Stored as a boolean.\n",
    "        - True: Female\n",
    "        - False: Male\n",
    "- Trampoline (TRA) competitor\n",
    "    - Competing?\n",
    "        - True or False.\n",
    "    - Stored as an enumerator?\n",
    "        - 1: Novice\n",
    "        - 2: Intermediate\n",
    "        - 3: Intervanced\n",
    "        - 4: Advanced\n",
    "        - 5: Elite\n",
    "        - 6: Elite-Pro\n",
    "- Double-mini trampoline (DMT) competitor\n",
    "    - Competing?\n",
    "        - True or False.\n",
    "    - Stored as an int.\n",
    "        - 1: Level 1\n",
    "        - 2: Level 2\n",
    "        - 3: Level 3\n",
    "        - 4: Level 4\n",
    "        - 5: Level 5\n",
    "        - 6: Level 6\n",
    "- Tumbling (TUM) competitor\n",
    "    - Competing?\n",
    "        - True or False.\n",
    "    - Stored as an int.\n",
    "        - 1: Level 1\n",
    "        - 2: Level 2\n",
    "        - 3: Level 3\n",
    "        - 4: Level 4\n",
    "\n",
    "\n",
    "### Judges\n",
    "Level of trampoline (TRA) juding qualification\n",
    "Chairperson\n"
   ]
  },
  {
   "cell_type": "code",
   "execution_count": null,
   "id": "a792cd85",
   "metadata": {},
   "outputs": [
    {
     "name": "stdout",
     "output_type": "stream",
     "text": [
      "Hello, World!\n"
     ]
    }
   ],
   "source": [
    "class Level(Enum):\n",
    "    NOVICE = 0\n",
    "    INTERMEDIATE = 1\n",
    "\n",
    "@dataclass\n",
    "class Competitor:\n",
    "  first_name: str\n",
    "  surname: str\n",
    "  level: Level"
   ]
  }
 ],
 "metadata": {
  "kernelspec": {
   "display_name": "comp47350py311",
   "language": "python",
   "name": "python3"
  },
  "language_info": {
   "codemirror_mode": {
    "name": "ipython",
    "version": 3
   },
   "file_extension": ".py",
   "mimetype": "text/x-python",
   "name": "python",
   "nbconvert_exporter": "python",
   "pygments_lexer": "ipython3",
   "version": "3.11.5"
  }
 },
 "nbformat": 4,
 "nbformat_minor": 5
}
