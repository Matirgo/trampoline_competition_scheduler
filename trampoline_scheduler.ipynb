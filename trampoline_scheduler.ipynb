{
 "cells": [
  {
   "cell_type": "markdown",
   "id": "38b3cf09",
   "metadata": {},
   "source": [
    "# Trampoline Competition Scheduler"
   ]
  },
  {
   "cell_type": "markdown",
   "id": "5c9858f4",
   "metadata": {},
   "source": [
    "## Information\n",
    "### Competitors\n",
    "- First name of competitor\n",
    "    - Stored as a string.\n",
    "- Surname of competitor\n",
    "    - Stored as a string.\n",
    "- Preferred category of competitor\n",
    "    - Stored as a boolean.\n",
    "        - True: Female\n",
    "        - False: Male\n",
    "- Trampoline (TRA) competitor\n",
    "    - Competing?\n",
    "        - True or False.\n",
    "    - Stored as an enumerator?\n",
    "        - 1: Novice\n",
    "        - 2: Intermediate\n",
    "        - 3: Intervanced\n",
    "        - 4: Advanced\n",
    "        - 5: Elite\n",
    "        - 6: Elite-Pro\n",
    "- Double-mini trampoline (DMT) competitor\n",
    "    - Competing?\n",
    "        - True or False.\n",
    "    - Stored as an int.\n",
    "        - 1: Level 1\n",
    "        - 2: Level 2\n",
    "        - 3: Level 3\n",
    "        - 4: Level 4\n",
    "        - 5: Level 5\n",
    "        - 6: Level 6\n",
    "- Tumbling (TUM) competitor\n",
    "    - Competing?\n",
    "        - True or False.\n",
    "    - Stored as an int.\n",
    "        - 1: Level 1\n",
    "        - 2: Level 2\n",
    "        - 3: Level 3\n",
    "        - 4: Level 4\n",
    "\n",
    "\n",
    "### Judges\n",
    "Level of trampoline (TRA) juding qualification\n",
    "Chairperson\n"
   ]
  },
  {
   "cell_type": "code",
   "execution_count": 1,
   "id": "f964ccbc",
   "metadata": {},
   "outputs": [],
   "source": [
    "# Import required packages.\n",
    "\n",
    "# Import pandas for data analysis.\n",
    "import pandas as pd"
   ]
  },
  {
   "cell_type": "code",
   "execution_count": 2,
   "id": "3e95a81f",
   "metadata": {},
   "outputs": [],
   "source": [
    "# Read the .csv file with all the entries.\n",
    "df = pd.read_csv(\"Sample_Competitor_Data.csv\", keep_default_na = True, delimiter = \",\", skipinitialspace = True, encoding = \"utf-8-sig\")"
   ]
  },
  {
   "cell_type": "code",
   "execution_count": 3,
   "id": "4a036c84",
   "metadata": {},
   "outputs": [
    {
     "data": {
      "text/plain": [
       "(14, 6)"
      ]
     },
     "execution_count": 3,
     "metadata": {},
     "output_type": "execute_result"
    }
   ],
   "source": [
    "# Find the shape of the data in the format (number of rows, number of columns).\n",
    "df.shape"
   ]
  },
  {
   "cell_type": "code",
   "execution_count": 4,
   "id": "b19cfb8e",
   "metadata": {},
   "outputs": [
    {
     "data": {
      "text/html": [
       "<div>\n",
       "<style scoped>\n",
       "    .dataframe tbody tr th:only-of-type {\n",
       "        vertical-align: middle;\n",
       "    }\n",
       "\n",
       "    .dataframe tbody tr th {\n",
       "        vertical-align: top;\n",
       "    }\n",
       "\n",
       "    .dataframe thead th {\n",
       "        text-align: right;\n",
       "    }\n",
       "</style>\n",
       "<table border=\"1\" class=\"dataframe\">\n",
       "  <thead>\n",
       "    <tr style=\"text-align: right;\">\n",
       "      <th></th>\n",
       "      <th>first_name</th>\n",
       "      <th>surname</th>\n",
       "      <th>preferred_category</th>\n",
       "      <th>tra_competitor</th>\n",
       "      <th>dmt_competitor</th>\n",
       "      <th>tum_competitor</th>\n",
       "    </tr>\n",
       "  </thead>\n",
       "  <tbody>\n",
       "    <tr>\n",
       "      <th>0</th>\n",
       "      <td>Bilbo</td>\n",
       "      <td>Staple</td>\n",
       "      <td>Male</td>\n",
       "      <td>Novice</td>\n",
       "      <td>1</td>\n",
       "      <td>1</td>\n",
       "    </tr>\n",
       "    <tr>\n",
       "      <th>1</th>\n",
       "      <td>Nilbo</td>\n",
       "      <td>Lexus</td>\n",
       "      <td>Male</td>\n",
       "      <td>Novice</td>\n",
       "      <td>4</td>\n",
       "      <td>2</td>\n",
       "    </tr>\n",
       "    <tr>\n",
       "      <th>2</th>\n",
       "      <td>Tristy</td>\n",
       "      <td>Thomdaughter</td>\n",
       "      <td>Female</td>\n",
       "      <td>Intermediate</td>\n",
       "      <td>0</td>\n",
       "      <td>3</td>\n",
       "    </tr>\n",
       "    <tr>\n",
       "      <th>3</th>\n",
       "      <td>Tristan</td>\n",
       "      <td>Turntable</td>\n",
       "      <td>Male</td>\n",
       "      <td>Not competing</td>\n",
       "      <td>2</td>\n",
       "      <td>4</td>\n",
       "    </tr>\n",
       "    <tr>\n",
       "      <th>4</th>\n",
       "      <td>Izzy</td>\n",
       "      <td>Dogg</td>\n",
       "      <td>Female</td>\n",
       "      <td>Intermediate</td>\n",
       "      <td>3</td>\n",
       "      <td>5</td>\n",
       "    </tr>\n",
       "  </tbody>\n",
       "</table>\n",
       "</div>"
      ],
      "text/plain": [
       "  first_name       surname preferred_category tra_competitor  dmt_competitor  \\\n",
       "0      Bilbo        Staple               Male         Novice               1   \n",
       "1      Nilbo         Lexus               Male         Novice               4   \n",
       "2     Tristy  Thomdaughter             Female   Intermediate               0   \n",
       "3    Tristan     Turntable               Male  Not competing               2   \n",
       "4       Izzy          Dogg             Female   Intermediate               3   \n",
       "\n",
       "   tum_competitor  \n",
       "0               1  \n",
       "1               2  \n",
       "2               3  \n",
       "3               4  \n",
       "4               5  "
      ]
     },
     "execution_count": 4,
     "metadata": {},
     "output_type": "execute_result"
    }
   ],
   "source": [
    "# Display the first five results, starting at index zero.\n",
    "df.head(5)"
   ]
  },
  {
   "cell_type": "code",
   "execution_count": 5,
   "id": "367960d3",
   "metadata": {},
   "outputs": [
    {
     "data": {
      "text/html": [
       "<div>\n",
       "<style scoped>\n",
       "    .dataframe tbody tr th:only-of-type {\n",
       "        vertical-align: middle;\n",
       "    }\n",
       "\n",
       "    .dataframe tbody tr th {\n",
       "        vertical-align: top;\n",
       "    }\n",
       "\n",
       "    .dataframe thead th {\n",
       "        text-align: right;\n",
       "    }\n",
       "</style>\n",
       "<table border=\"1\" class=\"dataframe\">\n",
       "  <thead>\n",
       "    <tr style=\"text-align: right;\">\n",
       "      <th></th>\n",
       "      <th>first_name</th>\n",
       "      <th>surname</th>\n",
       "      <th>preferred_category</th>\n",
       "      <th>tra_competitor</th>\n",
       "      <th>dmt_competitor</th>\n",
       "      <th>tum_competitor</th>\n",
       "    </tr>\n",
       "  </thead>\n",
       "  <tbody>\n",
       "    <tr>\n",
       "      <th>9</th>\n",
       "      <td>Matitan</td>\n",
       "      <td>Marthritis</td>\n",
       "      <td>Male</td>\n",
       "      <td>Elite-Pro</td>\n",
       "      <td>7</td>\n",
       "      <td>5</td>\n",
       "    </tr>\n",
       "    <tr>\n",
       "      <th>10</th>\n",
       "      <td>Miko</td>\n",
       "      <td>Piko</td>\n",
       "      <td>Male</td>\n",
       "      <td>Elite-Pro</td>\n",
       "      <td>4</td>\n",
       "      <td>4</td>\n",
       "    </tr>\n",
       "    <tr>\n",
       "      <th>11</th>\n",
       "      <td>Darnius</td>\n",
       "      <td>Wallet</td>\n",
       "      <td>Male</td>\n",
       "      <td>Elite-Pro</td>\n",
       "      <td>1</td>\n",
       "      <td>3</td>\n",
       "    </tr>\n",
       "    <tr>\n",
       "      <th>12</th>\n",
       "      <td>Ark</td>\n",
       "      <td>Balboa</td>\n",
       "      <td>Male</td>\n",
       "      <td>Elite</td>\n",
       "      <td>0</td>\n",
       "      <td>2</td>\n",
       "    </tr>\n",
       "    <tr>\n",
       "      <th>13</th>\n",
       "      <td>Lavender</td>\n",
       "      <td>Rose</td>\n",
       "      <td>Female</td>\n",
       "      <td>Advanced</td>\n",
       "      <td>0</td>\n",
       "      <td>1</td>\n",
       "    </tr>\n",
       "  </tbody>\n",
       "</table>\n",
       "</div>"
      ],
      "text/plain": [
       "   first_name     surname preferred_category tra_competitor  dmt_competitor  \\\n",
       "9     Matitan  Marthritis               Male      Elite-Pro               7   \n",
       "10       Miko        Piko               Male      Elite-Pro               4   \n",
       "11    Darnius      Wallet               Male      Elite-Pro               1   \n",
       "12        Ark      Balboa               Male          Elite               0   \n",
       "13   Lavender        Rose             Female       Advanced               0   \n",
       "\n",
       "    tum_competitor  \n",
       "9                5  \n",
       "10               4  \n",
       "11               3  \n",
       "12               2  \n",
       "13               1  "
      ]
     },
     "execution_count": 5,
     "metadata": {},
     "output_type": "execute_result"
    }
   ],
   "source": [
    "# Display the last five results.\n",
    "df.tail(5)"
   ]
  },
  {
   "cell_type": "code",
   "execution_count": 6,
   "id": "cfa6a3df",
   "metadata": {},
   "outputs": [],
   "source": [
    "# Create a new column called \"is_female\" based on the \"preferred_category\" column.\n",
    "df[\"is_female\"] = df[\"preferred_category\"].apply(lambda x: True if x == \"Female\" else False)\n",
    "\n",
    "# Drop the preferred category column.\n",
    "df = df.drop(columns = [\"preferred_category\"])"
   ]
  },
  {
   "cell_type": "code",
   "execution_count": 7,
   "id": "2a5deaa3",
   "metadata": {},
   "outputs": [
    {
     "name": "stdout",
     "output_type": "stream",
     "text": [
      "   first_name         surname tra_competitor  dmt_competitor  tum_competitor  \\\n",
      "0       Bilbo          Staple         Novice               1               1   \n",
      "1       Nilbo           Lexus         Novice               4               2   \n",
      "2      Tristy    Thomdaughter   Intermediate               0               3   \n",
      "3     Tristan       Turntable  Not competing               2               4   \n",
      "4        Izzy            Dogg   Intermediate               3               5   \n",
      "5      Snizzy           White         Novice               5               6   \n",
      "6        Mace          Centra    Intervanced               6               0   \n",
      "7       Jabby  Abul's Disease       Advanced               5               0   \n",
      "8   Coolmente       Gonzooles          Elite               4               6   \n",
      "9     Matitan      Marthritis      Elite-Pro               7               5   \n",
      "10       Miko            Piko      Elite-Pro               4               4   \n",
      "11    Darnius          Wallet      Elite-Pro               1               3   \n",
      "12        Ark          Balboa          Elite               0               2   \n",
      "13   Lavender            Rose       Advanced               0               1   \n",
      "\n",
      "    is_female  tra_level  \n",
      "0       False          1  \n",
      "1       False          1  \n",
      "2        True          2  \n",
      "3       False          0  \n",
      "4        True          2  \n",
      "5        True          1  \n",
      "6       False          3  \n",
      "7       False          4  \n",
      "8       False          5  \n",
      "9       False          6  \n",
      "10      False          6  \n",
      "11      False          6  \n",
      "12      False          5  \n",
      "13       True          4  \n"
     ]
    }
   ],
   "source": [
    "# Create a function to convert trampoline (TRA) levels to integers.\n",
    "def tra_level(level):\n",
    "    if level == \"Novice\":\n",
    "        level = 1\n",
    "    elif level == \"Intermediate\":\n",
    "        level = 2\n",
    "    elif level == \"Intervanced\":\n",
    "        level = 3\n",
    "    elif level == \"Advanced\":\n",
    "        level = 4\n",
    "    elif level == \"Elite\":\n",
    "        level = 5\n",
    "    elif level == \"Elite-Pro\":\n",
    "        level = 6\n",
    "    else:\n",
    "        level = 0\n",
    "    return level\n",
    "\n",
    "# Create a new column called \"tra_level\" based on the \"tra_competitor\" column.\n",
    "df[\"tra_level\"] = df[\"tra_competitor\"].apply(tra_level)\n",
    "print(df)"
   ]
  },
  {
   "cell_type": "code",
   "execution_count": 8,
   "id": "30b08ea0",
   "metadata": {},
   "outputs": [
    {
     "data": {
      "text/plain": [
       "first_name        object\n",
       "surname           object\n",
       "tra_competitor    object\n",
       "dmt_competitor     int64\n",
       "tum_competitor     int64\n",
       "is_female           bool\n",
       "tra_level          int64\n",
       "dtype: object"
      ]
     },
     "execution_count": 8,
     "metadata": {},
     "output_type": "execute_result"
    }
   ],
   "source": [
    "# Check the types of the .csv file.\n",
    "df.dtypes"
   ]
  },
  {
   "cell_type": "code",
   "execution_count": 9,
   "id": "4592bc20",
   "metadata": {},
   "outputs": [],
   "source": [
    "# Change all data fields to either categorical (category) or continuous (float64) types.\n",
    "df[\"first_name\"] = df[\"first_name\"].astype(\"category\")\n",
    "df[\"surname\"] = df[\"surname\"].astype(\"category\")\n",
    "df[\"tra_competitor\"] = df[\"tra_competitor\"].astype(\"category\")\n",
    "df[\"dmt_competitor\"] = df[\"dmt_competitor\"].astype(\"category\")\n",
    "df[\"tum_competitor\"] = df[\"tum_competitor\"].astype(\"category\")\n",
    "df[\"tra_level\"] = df[\"tra_level\"].astype(\"category\")\n",
    "\n",
    "# \"is_female\" is already of type Boolean, therefore does not need to be changed."
   ]
  },
  {
   "cell_type": "code",
   "execution_count": 10,
   "id": "71ef637e",
   "metadata": {},
   "outputs": [],
   "source": [
    "# Save the updated DataFrame back to CSV\n",
    "df.to_csv(\"Updated_Sample_Data.csv\", index = False)"
   ]
  },
  {
   "cell_type": "code",
   "execution_count": null,
   "id": "f2a8ef6a",
   "metadata": {},
   "outputs": [
    {
     "ename": "ModuleNotFoundError",
     "evalue": "No module named 'competitor'",
     "output_type": "error",
     "traceback": [
      "\u001b[1;31m---------------------------------------------------------------------------\u001b[0m",
      "\u001b[1;31mModuleNotFoundError\u001b[0m                       Traceback (most recent call last)",
      "Cell \u001b[1;32mIn[11], line 1\u001b[0m\n\u001b[1;32m----> 1\u001b[0m \u001b[38;5;28;01mfrom\u001b[39;00m \u001b[38;5;21;01mcompetitor\u001b[39;00m\u001b[38;5;21;01m.\u001b[39;00m\u001b[38;5;21;01mpy\u001b[39;00m \u001b[38;5;28;01mimport\u001b[39;00m function\n",
      "\u001b[1;31mModuleNotFoundError\u001b[0m: No module named 'competitor'"
     ]
    }
   ],
   "source": [
    "# from competitor.py import function"
   ]
  },
  {
   "cell_type": "code",
   "execution_count": null,
   "id": "a792cd85",
   "metadata": {},
   "outputs": [],
   "source": [
    "# class Level(Enum):\n",
    "#     NOVICE = 0\n",
    "#     INTERMEDIATE = 1\n",
    "\n",
    "# @dataclass\n",
    "# class Competitor:\n",
    "#   first_name: str\n",
    "#   surname: str\n",
    "#   level: Level"
   ]
  }
 ],
 "metadata": {
  "kernelspec": {
   "display_name": "comp47350py311",
   "language": "python",
   "name": "python3"
  },
  "language_info": {
   "codemirror_mode": {
    "name": "ipython",
    "version": 3
   },
   "file_extension": ".py",
   "mimetype": "text/x-python",
   "name": "python",
   "nbconvert_exporter": "python",
   "pygments_lexer": "ipython3",
   "version": "3.11.5"
  }
 },
 "nbformat": 4,
 "nbformat_minor": 5
}
